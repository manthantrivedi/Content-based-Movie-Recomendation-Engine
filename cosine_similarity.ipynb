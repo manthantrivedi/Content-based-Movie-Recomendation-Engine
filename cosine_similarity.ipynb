{
  "nbformat": 4,
  "nbformat_minor": 0,
  "metadata": {
    "colab": {
      "name": "cosine_similarity.ipynb",
      "provenance": [],
      "collapsed_sections": [],
      "authorship_tag": "ABX9TyOXp+0elvLJKVdHzTrUoZzh",
      "include_colab_link": true
    },
    "kernelspec": {
      "name": "python3",
      "display_name": "Python 3"
    }
  },
  "cells": [
    {
      "cell_type": "markdown",
      "metadata": {
        "id": "view-in-github",
        "colab_type": "text"
      },
      "source": [
        "<a href=\"https://colab.research.google.com/github/manthantrivedi/Movie-Recomendation-Engine/blob/main/cosine_similarity.ipynb\" target=\"_parent\"><img src=\"https://colab.research.google.com/assets/colab-badge.svg\" alt=\"Open In Colab\"/></a>"
      ]
    },
    {
      "cell_type": "code",
      "metadata": {
        "id": "PqMCpevGUHDX"
      },
      "source": [
        "text = [\"London Paris London\", \"Paris Paris London\"]"
      ],
      "execution_count": 3,
      "outputs": []
    },
    {
      "cell_type": "code",
      "metadata": {
        "colab": {
          "base_uri": "https://localhost:8080/"
        },
        "id": "54jlGTK6UbgU",
        "outputId": "1f417c32-4b2f-48a2-b5b7-9b9da1333f04"
      },
      "source": [
        "#Count of each word in sentence.\n",
        "#get output like:-   [[2,1],[1,2]]\n",
        "\n",
        "from sklearn.feature_extraction.text import CountVectorizer\n",
        "\n",
        "vectorizer = CountVectorizer()\n",
        "\n",
        "matrix = vectorizer.fit_transform(text)\n",
        "matrix.toarray()"
      ],
      "execution_count": 10,
      "outputs": [
        {
          "output_type": "execute_result",
          "data": {
            "text/plain": [
              "array([[2, 1],\n",
              "       [1, 2]])"
            ]
          },
          "metadata": {
            "tags": []
          },
          "execution_count": 10
        }
      ]
    },
    {
      "cell_type": "code",
      "metadata": {
        "colab": {
          "base_uri": "https://localhost:8080/"
        },
        "id": "h6H5crivYgFd",
        "outputId": "2630f209-0082-4bc2-e556-7c1d87c20249"
      },
      "source": [
        "# using sklearn to calculate cosine similarity\n",
        "from sklearn.metrics.pairwise import cosine_similarity,cosine_distances\n",
        "\n",
        "similarity_socres = cosine_similarity(matrix)\n",
        "print(similarity_socres)"
      ],
      "execution_count": 12,
      "outputs": [
        {
          "output_type": "stream",
          "text": [
            "[[1.  0.8]\n",
            " [0.8 1. ]]\n"
          ],
          "name": "stdout"
        }
      ]
    },
    {
      "cell_type": "code",
      "metadata": {
        "id": "Poc2-J16YoaR"
      },
      "source": [
        "# The above output says that:- \n",
        "# First sentence is similar to the first sentence 100%\n",
        "# First sentence is similar to the second sentence 80%\n",
        "# Second sentence is similar to first sentence 80%\n",
        "# Second sentence is similar to second sentence 100%"
      ],
      "execution_count": 14,
      "outputs": []
    }
  ]
}